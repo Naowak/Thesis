{
 "cells": [
  {
   "cell_type": "code",
   "execution_count": 1,
   "metadata": {},
   "outputs": [
    {
     "name": "stdout",
     "output_type": "stream",
     "text": [
      "Welcome! I'm an AI designed to assist you with information and tasks. I'll help answer your questions, provide explanations, and even generate text based on what you need. Let's get started! What would you like to talk about or ask?\n"
     ]
    }
   ],
   "source": [
    "# Chat with an intelligent assistant in your terminal\n",
    "from openai import OpenAI\n",
    "\n",
    "# Point to the local server\n",
    "client = OpenAI(base_url=\"http://localhost:1234/v1\", api_key=\"lm-studio\")\n",
    "\n",
    "history = [\n",
    "    {\"role\": \"system\", \"content\": \"You are George Washington\"},\n",
    "    {\"role\": \"user\", \"content\": \"Hello, introduce yourself to someone opening this program for the first time. Be concise.\"},\n",
    "]\n",
    "\n",
    "while True:\n",
    "    completion = client.chat.completions.create(\n",
    "        model=\"lmstudio-community/Meta-Llama-3-8B-Instruct-GGUF\",\n",
    "        messages=history,\n",
    "        temperature=0.7,\n",
    "        #stream=True,\n",
    "    )\n",
    "\n",
    "    new_message = {\"role\": \"assistant\", \"content\": \"\"}\n",
    "    \n",
    "    for chunk in completion:\n",
    "        if chunk.choices[0].delta.content:\n",
    "            print(chunk.choices[0].delta.content, end=\"\", flush=True)\n",
    "            new_message[\"content\"] += chunk.choices[0].delta.content\n",
    "\n",
    "    history.append(new_message)\n",
    "    \n",
    "    # Uncomment to see chat history\n",
    "    # import json\n",
    "    # gray_color = \"\\033[90m\"\n",
    "    # reset_color = \"\\033[0m\"\n",
    "    # print(f\"{gray_color}\\n{'-'*20} History dump {'-'*20}\\n\")\n",
    "    # print(json.dumps(history, indent=2))\n",
    "    # print(f\"\\n{'-'*55}\\n{reset_color}\")\n",
    "\n",
    "    print()\n",
    "    history.append({\"role\": \"user\", \"content\": input(\"> \")})"
   ]
  },
  {
   "cell_type": "markdown",
   "metadata": {},
   "source": [
    "### Test embeddings server"
   ]
  },
  {
   "cell_type": "code",
   "execution_count": 2,
   "metadata": {},
   "outputs": [
    {
     "name": "stdout",
     "output_type": "stream",
     "text": [
      "[0.03201862424612045, 0.06339021772146225, -0.1485486477613449, -0.07495227456092834, 0.05322074145078659, 0.033833447843790054, -0.08443336933851242, 0.04095049947500229, -0.02298538014292717, 0.006490843836218119, -0.002983804326504469, 0.03710930421948433, 0.07530467212200165, 0.03950362652540207, -0.0714140310883522, -0.07569345086812973, 0.03581097722053528, -0.03519176319241524, 0.023282308131456375, 0.05217181146144867, -0.00028215660131536424, -0.03402334824204445, 0.06201495602726936, 0.02758781984448433, 0.036768924444913864, 0.05156147480010986, -0.04705529287457466, 0.04728596284985542, -0.013939945958554745, 0.011553875170648098, 0.019041266292333603, -0.025938358157873154, 0.0067710867151618, -0.040290094912052155, -0.01611078716814518, -0.037975434213876724, 0.07615136355161667, 0.014948222786188126, 0.04871078208088875, 0.05761585757136345, 0.028663964942097664, 0.038389578461647034, -0.04174976795911789, -0.008329471573233604, 0.04929797723889351, 0.02317655086517334, 0.009863926097750664, -0.01430636364966631, -0.016652889549732208, 0.012419295497238636, -0.038935739547014236, -0.047525763511657715, -0.0185101218521595, -0.052315495908260345, 0.04619722440838814, 0.06916525214910507, 0.09374375641345978, -0.025778671726584435, -0.02147156372666359, 0.012916293926537037, 0.06737788766622543, 0.010153221897780895, 0.0014461675891652703, 0.07584621757268906, 0.017029764130711555, -0.0162262711673975, -0.019826076924800873, 0.03528330847620964, -0.013744412921369076, -0.017210474237799644, 0.06306628882884979, -0.04063340649008751, 0.038431566208601, -0.008912173099815845, 0.018075868487358093, 0.011896793730556965, 0.0355241633951664, -0.0025735092349350452, -0.0880565270781517, 0.03714635595679283, 0.09765369445085526, -0.021409710869193077, 0.06117422133684158, -0.011922966688871384, 0.04570984095335007, 0.007731218822300434, -0.012183456681668758, 0.011665181256830692, -0.032231323421001434, 0.039213333278894424, -0.0068363104946911335, 0.03732936829328537, 0.07572350651025772, -0.0025180464144796133, -0.027550995349884033, -0.0019728499464690685, -0.021582534536719322, -0.01889507658779621, -0.012802834622561932, -0.044787365943193436, -0.033983565866947174, 0.016911538317799568, -0.0005389219732023776, -0.030682267621159554, 0.04474223405122757, 0.08811748772859573, -0.0597514733672142, -0.0275576151907444, -0.06279116123914719, -0.03074852004647255, -0.03196448087692261, -0.021488063037395477, -0.007281152997165918, -0.02861730568110943, -0.008601750247180462, 0.023463355377316475, 0.06845374405384064, -0.017491335049271584, 0.036984946578741074, 0.03088015876710415, -0.027547068893909454, -0.022357475012540817, -0.03036416694521904, 0.05701390281319618, 0.014409618452191353, 0.05645779147744179, -0.037918828427791595, -0.03297921270132065, -0.010002272203564644, 0.017790257930755615, 0.016144122928380966, 0.001182400155812502, -0.0008436183561570942, -0.023482156917452812, -0.01771189644932747, 0.04492143914103508, 0.004688055254518986, -0.04442327469587326, 0.08337636291980743, 0.060513921082019806, 0.09121833741664886, -0.01100960373878479, -0.0038954662159085274, -0.022672446444630623, 0.008380073122680187, -0.007766046095639467, 0.05559945106506348, -0.04526157304644585, -0.061692483723163605, 0.03246008977293968, 0.02651289850473404, 0.032051995396614075, 0.002485129050910473, 0.06574501842260361, 0.022446980699896812, -0.026602555066347122, -0.013836804777383804, 0.050185710191726685, 0.008818653412163258, 0.014525435864925385, 0.04488789662718773, -0.0025007075164467096, -0.05342648923397064, -0.018375582993030548, -0.018725980073213577, -0.020174816250801086, 0.030352702364325523, 0.04451573267579079, 0.018877308815717697, 0.03451623395085335, -0.015502747148275375, -0.033506814390420914, -0.024960309267044067, -0.01936572603881359, 0.036251455545425415, -0.01588977500796318, 0.0207989439368248, -0.0358864851295948, 0.018373828381299973, -0.05091598629951477, 0.034825779497623444, -0.025487836450338364, -0.03880517557263374, 0.03891758620738983, -0.0005425901035778224, -0.009830549359321594, -0.06382577121257782, -0.041739124804735184, -0.010150779969990253, -0.049772102385759354, -0.0372525118291378, 0.029278894886374474, -0.003301735734567046, 0.010372555814683437, -0.010690241120755672, -0.0392741821706295, 0.05652577802538872, 0.03585466369986534, -0.009969723410904408, -0.04991684854030609, 0.015695933252573013, -0.004948949441313744, -0.04996185004711151, 0.02981264889240265, -0.056492798030376434, 0.009188455529510975, -0.027527859434485435, 0.011215261183679104, 0.040261950343847275, -0.008847260847687721, 0.06820189952850342, 0.010617891326546669, -0.046211596578359604, 0.006481454242020845, -0.03895111754536629, -0.03591178357601166, -0.05065959319472313, -0.03433775529265404, -0.03397362306714058, 0.028865886852145195, 0.03395919129252434, 0.03165402263402939, 0.043090738356113434, -0.044477809220552444, 0.06052768975496292, 0.039564162492752075, -0.005207871086895466, 0.00027616109582595527, -0.08121520280838013, 0.02034635841846466, -0.023714261129498482, -0.013063997030258179, 0.0653119683265686, -0.011734286323189735, 0.025204556062817574, 0.07753481715917587, 0.024880006909370422, -0.0009376761736348271, 0.02622487023472786, -0.03291113302111626, -0.01970122940838337, 0.028486819937825203, -0.0297172162681818, -0.047380588948726654, -0.028257612138986588, -0.012183025479316711, 0.008045247755944729, -0.039941247552633286, 0.032981954514980316, 0.05303428694605827, 0.012470807880163193, -0.008041027002036572, 0.013992071151733398, -0.019164221361279488, 0.033131349831819534, -0.05212309584021568, 0.02439439855515957, -0.03450062870979309, -0.03495499864220619, -0.053141992539167404, 0.006955706514418125, -0.0991050973534584, 0.02910565212368965, -0.07774680852890015, -0.022835154086351395, -0.03342777118086815, -0.028063939884305, -0.0002945524174720049, 0.03942376747727394, -0.02618318237364292, 0.03304028511047363, 0.049814436584711075, 0.0723501518368721, 0.002633374882861972, 0.00326183857396245, -3.3525975595694035e-05, -0.02012869529426098, -0.05376620963215828, -0.006636237725615501, 0.009300296194851398, 0.05157976597547531, -0.052298035472631454, -0.04203791171312332, 0.011734161525964737, -0.01929648593068123, 0.027579402551054955, 0.029885033145546913, 0.003004341386258602, 0.001519598183222115, 0.018139002844691277, 0.027665916830301285, 0.015013803727924824, -0.03495841473340988, 0.025083407759666443, 0.019846975803375244, -0.004924553446471691, 0.0682067722082138, 0.0024058734998106956, 0.0010382792679592967, -0.0023588885087519884, -0.009786859154701233, -0.006206838879734278, 0.037670109421014786, 0.06889161467552185, 0.029194006696343422, 0.019220737740397453, 0.0440339520573616, 0.004894583951681852, 0.07930712401866913, 0.003659922629594803, -0.024041030555963516, -0.00283681764267385, -0.006150402128696442, 0.04085003584623337, -0.08600753545761108, 0.000808053941000253, 0.01294843852519989, 0.007169550284743309, 0.07202573120594025, 0.012060459703207016, 0.0018990306416526437, -0.041811902076005936, -0.008058669045567513, -0.030696092173457146, 0.021497685462236404, -0.006821291521191597, -0.011830504052340984, 0.03927280381321907, 0.007852617651224136, -0.04983126372098923, -0.017788834869861603, 0.04019269719719887, -0.007732076104730368, -0.04599020630121231, -0.04431569576263428, 0.008181951008737087, -0.014125320129096508, 0.026412170380353928, -0.030772190541028976, 0.034153539687395096, 0.07372159510850906, -0.02507244609296322, 0.03200815990567207, -0.05725796893239021, 0.06924857199192047, -0.009876699186861515, -0.036197878420352936, 0.013287393376231194, 0.03748747706413269, -0.0010359814623370767, -0.011099851690232754, -0.05807787552475929, 0.0022948470432311296, 0.05719293653964996, -0.009231108240783215, -0.013907880522310734, -0.008896034210920334, 0.024604052305221558, -0.050487976521253586, 0.004903290420770645, 0.002218897920101881, -0.03801633417606354, -0.024276919662952423, -0.04413333907723427, 0.018688306212425232, 0.023456040769815445, 0.04706671088933945, 0.023474926128983498, 0.031409163028001785, 0.02838439680635929, -0.004128763917833567, -0.048700664192438126, 0.003280911361798644, 0.011142163537442684, 0.05117473751306534, 0.015289947390556335, -0.04691402614116669, -0.010343270376324654, -0.019972510635852814, 0.01706494763493538, 0.03659132122993469, -0.021392730996012688, -0.0177683774381876, 0.029167843982577324, 0.0423014760017395, 0.009852385148406029, -0.0038254123646765947, -0.004923362750560045, -0.00022694403014611453, -0.013517966493964195, 0.026907701045274734, -0.005950557999312878, -0.047366563230752945, -0.014283767901360989, 0.02688930556178093, 0.003048020415008068, 0.03782111033797264, -0.05403008311986923, -0.020506223663687706, -0.00021198834292590618, 0.0010382275795564055, -0.03349420800805092, 0.011466925032436848, 0.016623985022306442, -0.025358175858855247, 0.0457192026078701, 0.016488565132021904, -0.06436988711357117, 0.019329238682985306, 0.046078093349933624, -0.03932543843984604, 0.055920764803886414, -0.01491580717265606, -0.05701696500182152, -0.04006209969520569, 0.03312079235911369, 0.045402124524116516, 0.05089884251356125, 0.006379679311066866, 0.015054735355079174, 0.0028795006219297647, 0.06274890154600143, -0.015255189500749111, 0.040871262550354004, -0.012696315534412861, -0.0025249922182410955, -0.013239904306828976, 0.04643011465668678, -0.019321594387292862, -0.07121381163597107, -0.012131482362747192, -0.01212118100374937, -0.01571940816938877, 0.03882799297571182, 0.02798408269882202, -0.023630645126104355, -0.013977685011923313, -0.017881037667393684, 0.038724880665540695, 0.016209077090024948, 0.04835822060704231, -0.06928694993257523, -0.025295117869973183, 0.012577434070408344, -0.03207691013813019, 0.05693897604942322, 0.031834881752729416, -0.004863101057708263, -0.05404902994632721, 0.007085047196596861, -0.08896426856517792, 0.04130927100777626, -0.011276067234575748, 0.02162889577448368, 0.04409004747867584, -0.05006503686308861, -0.019963210448622704, -0.022504067048430443, 0.010480633936822414, 0.025832006707787514, 0.011311409994959831, 0.0012957316357642412, -0.05881929397583008, 0.02540835738182068, 0.03307159245014191, -0.008674374781548977, 0.014933283440768719, -0.01398327574133873, -0.0048526800237596035, 0.05060022696852684, 0.014003140851855278, 0.04745340347290039, 0.00856782402843237, 0.006451739463955164, 0.003431629156693816, -0.04063323885202408, 0.019008222967386246, -0.028638698160648346, 0.005482296459376812, 0.05511549115180969, -0.010683904401957989, -0.0010497045004740357, -0.004122857004404068, -0.05157596617937088, 0.011676961556077003, 0.04806649684906006, 0.011844832450151443, -0.002396712079644203, 0.002928168745711446, 0.0014776617754250765, 0.01787753961980343, 0.005340171977877617, 0.01942172832787037, -0.036322448402643204, 0.01677211932837963, -0.0643540546298027, -0.026615140959620476, 0.009625920094549656, 0.048465654253959656, 0.021930763497948647, -0.03437265753746033, 0.02918524295091629, -0.042228180915117264, 0.033649176359176636, 0.026529479771852493, -0.012980084866285324, -0.06029016897082329, -0.07896601408720016, -0.050767332315444946, 0.008567854762077332, -0.04740539565682411, -0.011678735725581646, 0.0047032092697918415, 0.04837672412395477, 0.09768179804086685, -0.03870571032166481, 0.033344946801662445, -0.005069396924227476, -0.027988053858280182, 0.016657309606671333, 0.010537371970713139, -0.024371307343244553, -0.023121237754821777, -0.03738132491707802, -0.015351190231740475, -0.026611682027578354, 0.013435550965368748, -0.05331643670797348, -0.02589397132396698, -0.02148543670773506, 0.05449330806732178, -0.0034982445649802685, -0.06263011693954468, -0.019056884571909904, -0.024422427639365196, -0.011331518180668354, -0.017862645909190178, 0.004900030326098204, 0.042238954454660416, -0.014662702567875385, -0.03607041761279106, -0.027421608567237854, -0.03307721018791199, 0.018601546064019203, 0.003450815100222826, -0.00566972466185689, -0.03234213963150978, 0.053846970200538635, 0.01683606579899788, -0.013613840565085411, 0.052393510937690735, -0.03350081667304039, -0.022373750805854797, -0.0030915027018636465, 0.01859401725232601, -0.036362990736961365, -0.04637821391224861, 0.001921194838359952, -0.021017516031861305, -0.03176364302635193, 0.025733035057783127, 0.0029453483875840902, 0.04710563272237778, -0.017749622464179993, -0.06615506112575531, 0.05559016764163971, -0.010256076231598854, 0.02512085624039173, 0.04129836708307266, -0.005682503804564476, 0.011061410419642925, -0.0024078297428786755, -0.03656737133860588, -0.0503937229514122, 0.03593877702951431, 0.0019876626320183277, 0.008004761300981045, 0.03581946715712547, -0.04314659908413887, -0.08207983523607254, 0.05827121436595917, -0.008696816861629486, -0.034158553928136826, -0.01930418610572815, -0.02802037075161934, -0.04001346603035927, -0.0905032604932785, -0.01907189190387726, 0.03984051197767258, -0.0011085538426414132, 0.037102263420820236, -0.0009739452507346869, -0.02272486872971058, -0.01112205907702446, -0.0028799683786928654, 0.028125258162617683, -0.025973370298743248, -0.06349226832389832, 0.014084992930293083, -0.03251253068447113, -0.020929398015141487, -0.00168232514988631, 0.08762043714523315, -0.01749301142990589, -0.0502246655523777, 0.02718318998813629, 0.05052955448627472, 0.0275485347956419, -0.007596366573125124, -0.001695371582172811, 0.022548668086528778, 0.026132212951779366, -0.03774167597293854, -0.008270085789263248, 0.03774544969201088, 0.0002969836350530386, 0.06938768923282623, -0.027480512857437134, -0.04845069721341133, 0.020733287557959557, -0.010556641034781933, -0.04030695930123329, -0.008904023095965385, 0.01954108290374279, 0.018985534086823463, -0.007063914090394974, -0.025790909305214882, 0.008567155338823795, -0.005177364684641361, 0.011340023949742317, -0.013772810809314251, 0.012703895568847656, -0.08952759951353073, -0.01897156983613968, -0.013302159495651722, 0.012999463826417923, -0.033188071101903915, 0.015364744700491428, 0.01180691085755825, 0.019012633711099625, 0.01686720922589302, 0.004052859265357256, 0.0034839699510484934, 0.0008582220179960132, 0.0172471571713686, -0.0049473876133561134, 0.08186924457550049, -0.020557206124067307, 0.026158377528190613, -0.04625726118683815, 0.02586456760764122, 0.09389171749353409, -0.01616382971405983, 0.03698275238275528, 0.02730029821395874, -0.027647731825709343, 0.037931181490421295, -0.04418819770216942, -0.06571744382381439, 0.008991132490336895, -0.0018384658033028245, -0.03304194286465645, -0.05470951646566391, 0.033770106732845306, 0.05446143448352814, -0.014995371922850609, 0.0013753226958215237, -0.06531654298305511, -0.04944033548235893, -0.008791139349341393, -0.017306949943304062, 0.012064293026924133, 0.0016173893818631768, -0.03897708281874657, 0.025901436805725098, 0.037790458649396896, 0.007032310590147972, 0.07881644368171692, 0.04339803755283356, 0.0280428696423769, -0.013863114640116692, -0.02393535152077675, -0.015635084360837936, 0.027240656316280365, 0.026582714170217514, -0.10365257412195206, 0.020073171705007553, -0.057908836752176285, -0.002150386106222868, -0.045192621648311615, 0.010995334945619106, -0.07289242744445801, -0.0008699044119566679, -0.04127693176269531, -0.013254769146442413, -0.04371767118573189, 0.049560703337192535, -0.00020101018890272826, -0.05543169751763344, 0.060786936432123184, -0.04861046001315117, 0.0011605162872001529, 0.04215110465884209, 0.03314943611621857, -0.010143773630261421, -0.013640065677464008, 0.00042739673517644405, 0.03445227071642876, 0.01564468815922737, 0.01964475028216839, -0.027425287291407585, 0.01588202640414238, 0.0003251194139011204, 0.034863416105508804, 0.017392339184880257, -0.054515380412340164, -0.029756713658571243, -0.006830425933003426, -0.03551064804196358, 0.0441359281539917, 0.031202692538499832, 0.008311672136187553, -0.0029040228109806776, -0.024160919710993767, 0.009902135469019413, 0.013116407208144665, 0.06040063127875328, -0.0426170714199543, 0.04241051524877548, 0.016469478607177734, 0.023866882547736168, -0.03151041641831398, -0.05939449369907379, 0.0178077295422554, -0.039720047265291214, -0.004087748937308788, -0.033651333302259445, -0.01993510313332081, -0.042835745960474014, -0.027745099738240242, -0.02225365862250328, -0.015282519161701202, 0.00511583685874939, 0.02544141747057438, 0.01978040300309658, -0.008304568938910961, -0.02904319018125534, 0.010591103695333004, 0.03664901852607727, -0.023666877299547195, 0.00868204329162836, 0.01938045769929886, -0.009535043500363827, -0.028526557609438896, 0.021090492606163025, 0.0360543318092823, -0.009733171202242374, 0.03800029680132866, 0.057698726654052734, -0.031674206256866455, 0.004455116577446461, -0.02534276619553566, 0.05088217556476593, 0.006887406576424837, -0.04422158747911453, -0.024729784578084946, -0.03583766147494316, -0.025178758427500725]\n"
     ]
    }
   ],
   "source": [
    "# Make sure to `pip install openai` first\n",
    "from openai import OpenAI\n",
    "client = OpenAI(base_url=\"http://localhost:1234/v1\", api_key=\"lm-studio\")\n",
    "\n",
    "def get_embedding(text, model=\"nomic-ai/nomic-embed-text-v1.5-GGUF\"):\n",
    "   text = text.replace(\"\\n\", \" \")\n",
    "   return client.embeddings.create(input = [text], model=model).data[0].embedding\n",
    "\n",
    "print(get_embedding(\"Once upon a time, there was a cat.\"))"
   ]
  },
  {
   "cell_type": "markdown",
   "metadata": {},
   "source": [
    "### Test de Llama 3 sans RAG"
   ]
  },
  {
   "cell_type": "code",
   "execution_count": 3,
   "metadata": {},
   "outputs": [
    {
     "name": "stdout",
     "output_type": "stream",
     "text": [
      "Eysines is a charming village located in the Haute-Savoie department of Auvergne-Rhône-Alpes region, France. While it may be a small town, there are still plenty of things to see and do in and around Eysines. Here are some suggestions:\n",
      "\n",
      "1. **Hiking**: Eysines is surrounded by beautiful mountains and forests, making it an ideal base for hiking and trekking. You can explore the nearby peaks, valleys, and villages on foot.\n",
      "2. **Skiing and Snowboarding**: In winter, the village has several ski resorts within easy reach, including Le Grand Bornand, La Clusaz, and Mieussy.\n",
      "3. **Visit the Church of Saint-Pierre**: This beautiful 12th-century church is a must-visit for its stunning architecture and historic significance.\n",
      "4. **Explore the Village**: Wander through the cobblestone streets and admire the traditional Savoyard chalets, many of which date back to the 16th century.\n",
      "5. **Local Markets**: Visit the weekly market (every Thursday morning) or the seasonal markets during summer and winter for a taste of local produce, crafts, and delicacies.\n",
      "6. **Water Sports**: In summer, enjoy water activities like swimming, kayaking, or paddleboarding on Lake Annecy, just 30 minutes away.\n",
      "7. **Cycling**: The village has several bike trails and routes that offer scenic views of the surrounding mountains and valleys.\n",
      "8. **Gastronomy**: Indulge in local specialties like tartiflette (a Savoyard dish made with potatoes, reblochon cheese, and ham), crozets (a type of pasta), or try some of the region's famous wines.\n",
      "9. **Visit nearby Annecy**: Only 20 minutes away by car, the charming town of Annecy is known as the \"Venice of the Alps\" due to its canals and old town.\n",
      "10. **Relaxation**: Unwind in one of the village's many cafes or restaurants, or simply enjoy the peaceful atmosphere and stunning mountain views.\n",
      "\n",
      "Remember to check opening hours, prices, and schedules for any specific activities you're interested in before heading out. Enjoy your stay in Eysines!\n"
     ]
    }
   ],
   "source": [
    "# Chat with an intelligent assistant in your terminal\n",
    "from openai import OpenAI\n",
    "\n",
    "# Point to the local server\n",
    "client = OpenAI(base_url=\"http://localhost:1234/v1\", api_key=\"lm-studio\")\n",
    "\n",
    "history = [\n",
    "    {\"role\": \"system\", \"content\": \"You are an ai assistant.\"},\n",
    "    {\"role\": \"user\", \"content\": \"What can i do in Eysines ?\"},\n",
    "]\n",
    "\n",
    "completion = client.chat.completions.create(\n",
    "    model=\"lmstudio-community/Meta-Llama-3-8B-Instruct-GGUF\",\n",
    "    messages=history,\n",
    "    temperature=0.7,\n",
    ")\n",
    "\n",
    "print(completion.choices[0].message.content)\n",
    "\n",
    "# Q : What is eysines ?\n",
    "# \"Eysines is a commune in the Gironde department in southwestern France. It's located about 20 kilometers (12 miles) east of Bordeaux, the capital city of the Nouvelle-Aquitaine region.\n",
    "# \n",
    "# Eysines has a population of around 8,000 people and is known for its rich history dating back to pre-Roman times. The commune is situated along the Garonne River and features a mix of medieval and modern architecture.\n",
    "#\n",
    "# Today, Eysines is an important commercial center with many businesses, including wine producers, food processing companies, and retail stores. Visitors can explore the town's historic sites, such as the 12th-century church of Saint-Pierre and the 16th-century castle of La Roche, which now serves as a museum.\n",
    "# \n",
    "# Overall, Eysines is a charming French commune with a rich history, scenic views along the Garonne River, and modern amenities.\"\n",
    "\n",
    "\n",
    "# Q : What can i do in Eysines ?\n",
    "# A : \"Eysines is a charming commune located in the Haute-Savoie department of France, nestled in the Auvergne-Rhône-Alpes region. While it's a small town, there are still some interesting activities and attractions to explore. Here are a few ideas:\\n\\n1. **Hiking and outdoor activities**: Eysines is surrounded by beautiful countryside, offering numerous hiking trails with breathtaking views of the surrounding mountains and valleys.\\n2. **Visit the Church of Saint-Martin**: This 12th-century church is a notable landmark in Eysines, featuring stunning stained-glass windows and ornate stone carvings.\\n3. **Explore the local markets**: Every Saturday morning, the town hosts a bustling market selling fresh produce, artisanal goods, and local specialties like cheese, bread, and charcuterie.\\n4. **Wine tasting**: The region around Eysines is famous for its wine production, particularly whites made from Chardonnay and Sauvignon grapes. Visit local vineyards or wineries to taste some of the best vintages.\\n5. **Relax at a café or restaurant**: Enjoy a leisurely meal or coffee at one of the town's cozy cafes or restaurants, many of which serve traditional Savoyard cuisine like tartiflette, crozets, and raclette.\\n6. **Take a day trip to Annecy**: Only about 30 minutes away by car, the picturesque town of Annecy is known for its canals, historic old town, and stunning mountain views.\\n7. **Go skiing or snowshoeing**: In winter, nearby ski resorts like La Clusaz, Manigod, and Le Grand Bornand offer excellent skiing and snowboarding opportunities.\\n8. **Attend local festivals**: Eysines hosts various festivals throughout the year, such as the Fête de la Transhumance in September, which celebrates traditional cattle herding practices.\\n\\nThese are just a few ideas to get you started. Depending on your interests and the time of year you visit, there may be other activities or events worth exploring in Eysines.\"\n"
   ]
  },
  {
   "cell_type": "markdown",
   "metadata": {},
   "source": [
    "### Création du RAG"
   ]
  },
  {
   "cell_type": "markdown",
   "metadata": {},
   "source": [
    "##### Defines texts"
   ]
  },
  {
   "cell_type": "code",
   "execution_count": 4,
   "metadata": {},
   "outputs": [
    {
     "data": {
      "text/plain": [
       "40"
      ]
     },
     "execution_count": 4,
     "metadata": {},
     "output_type": "execute_result"
    }
   ],
   "source": [
    "text1 = \"\"\"Eysines (/ɛj.zinə/ ou /ezinə/) est une commune du Sud-Ouest de la France, située dans le département de la Gironde, en région Nouvelle-Aquitaine. Elle fait partie de l'agglomération nord-ouest de Bordeaux, de Bordeaux Métropole, du parc intercommunal des Jalles et du syndicat mixte du parc naturel régional du Médoc.\n",
    "Fière de ses espaces naturels, de son histoire maraîchère, de ses évènements culturels-sportifs-associatifs et de sa mixité sociale, la commune en a fait sa signature polysémique : « Eysines, Jardin de Cultures ».\n",
    "Eysines est une commune « Sport Pour Tous » 4 étoiles depuis 2013.\"\"\"\n",
    "\n",
    "text2 = \"\"\"Commune de l'aire d'attraction de Bordeaux située dans son unité urbaine, à 7 kilomètres au nord-nord-ouest de Bordeaux. D'une superficie de 1 201 hectares (12,01 km2), elle s'élève au plus haut à 44 mètres au Grand-Louis, et au plus bas jusqu'à 4,80 mètres au Moulin à eau de Plassan. La ville, qui bénéficie des infrastructures de Bordeaux Métropole (transports en commun, rocade, services publics), s'étale en plusieurs « quartiers » : Le Bourg, La Forêt, Migron, Le Vigean entre autres.\"\"\"\n",
    "\n",
    "text3 = \"\"\"Posée aux abords sud de la Jalle, rivière originaire de Saint-Jean-d'Illac, elle bénéficie d'un sol fertile installé par les alluvions de l'ancien delta de la Garonne de l'époque quaternaire. Sableux et marécageux par endroits, il est drainé par de nombreux canaux. Plusieurs sources continuent de sourdre sur 50 ha, dont Bordeaux Métropole prélève jusqu'à 1 million de m3 par an pour son alimentation hydrique. Des nappes phréatiques de l'Oligocène offrent leurs eaux à Eysines, au travers les plateaux de Cantinolle et de Carès1.\"\"\"\n",
    "\n",
    "text4 = \"\"\"Le territoire se caractérise par une vaste étendue maraîchère de 162 ha au nord, le long de la Jalle de Blanquefort, et de 72 ha de parcs et jardins disséminés au milieu d'une nature encore préservée.\"\"\"\n",
    "\n",
    "text5 = \"\"\"Les communes limitrophes sont Blanquefort, Mérignac, Bordeaux, Le Bouscat, Bruges, Le Haillan et Le Taillan-Médoc.\"\"\"\n",
    "\n",
    "text6 = \"\"\"Le Bourg : Quartier historique et centre politique de la ville, avec la mairie, l'église Saint-Martin et le centre culturel Le Plateau (cinéma-théâtre-médiathèque). Le quartier s'est développé autour de l'avenue de la Libération, avec ses typiques maisons de maraîchers et de vignerons, qui permet aujourd'hui encore de garder un esprit de village, malgré le faible nombre de commerces de proximité souvent reproché. Le quartier s'étend du secteur de Gasteboy et de la gare de l'ancienne ligne ferroviaire Bordeaux-Lacanau au nord, au château Lescombes et son pigeonnier au sud, du secteur du Vignan et du cimetière à l'ouest, au secteur de la Biblanque et du collège Albert Camus à l'est. Il dispose de deux groupes scolaires, de deux gymnases de type COSEC, de l'école de musique, du centre d'art contemporain, du musée du maraîchage, des parcs Lescombes et Bois Salut, et du square Parmentier avec les ruines d'un ancien lavoir. Les grandes manifestations ou fêtes annuelles ont lieu sur la Grande Place du bourg. Il est desservi par la station Eysines Centre de la ligne D du tramway de Bordeaux.\"\"\"\n",
    "\n",
    "text7 = \"\"\"Le Vigean : Quartier historique, commerçant et résidentiel situé au nord-est de la ville. Sur la partie nord, vers Cap de Haut, on retrouve le vieux Vigean avec ses ruelles, ses maisons anciennes et ses petits châteaux. Véritable « deuxième centre-ville », le quartier se concentre autour de l'avenue du Médoc, voie métropolitaine de grand passage, longée de nombreux commerces sur une longueur de 800 mètres environ. Le quartier s'étend au sud à partir de la fin des années 1960 avec la construction d'ensembles pavillonnaires et d'immeubles, comme Le Grand Caillou classé prioritaire ou Les Hauts de l'Hippodrome. Il dispose d'un groupe scolaire, du lycée professionnel Charles Peguy, du CFA du Vigean et du Parc du Vigean. Le quartier est connu pour sa salle de spectacles située sur l'Esplanade du Vigean. Il est desservi par les stations Simone Veil et Picot de la ligne D du tramway de Bordeaux.\"\"\"\n",
    "\n",
    "text8 = \"\"\"Migron-Bois Gramond : Quartier résidentiel à l'est de la ville en limite de Bordeaux, entièrement dessiné avec des lotissements pavillonnaires sur des anciennes prairies à partir du début des années 1960. Il dispose de son propre groupe scolaire, d'équipements sportifs spécifiques (stade de rugby, dojo, salle de danse et de gymnastique). En son centre, la célèbre Place florale qui accueille le marché municipal tous les dimanches matin depuis 1977. Il est desservi au nord par la station Hippodrome de la ligne D du tramway de Bordeaux. Associé au quartier de Migron, le secteur du Bois Gramond est à cheval de chaque côté de la rocade et relié par une passerelle piétonne. On y trouve le parc Gramond aménagé sur les ruines de l'ancien château viticole du Bois Gramond et le second (et nouveau) cimetière communal.\"\"\"\n",
    "\n",
    "text9 = \"\"\"Le Derby : Quartier résidentiel au centre de la ville, entièrement dessiné avec des lotissements pavillonnaires sur des anciennes prairies à partir du début des années 1970. Niveau urbanisme, le quartier est le \"petit frère\" de Migron auquel il ressemble beaucoup, malgré leur séparation par la rocade de Bordeaux depuis 1978. Une petite zone d'activités s'est développée vers le Bréteil, à la limite avec le secteur de Bois Gramond. Il dispose de son propre groupe scolaire, de deux centres scolaires spécialisés, du Square du Derby et du Parc Lamothe-Lescure. Il est desservi par les stations Simone Veil et Picot de la ligne D du tramway de Bordeaux.\"\"\"\n",
    "\n",
    "text10 = \"\"\"La Forêt : Quartier au sud de la ville, résidentiel dans sa partie intra-rocade, où il dispose de son groupe scolaire, de commerces et du Square de La Forêt avec son terrain de base-ball. Dans sa partie extra-rocade, dans l'axe de l'aéroport de Bordeaux-Mérignac, il regroupe le Parc du Limancet et les grands parcs d'activités de la commune (Mermoz, Saint-Exupéry, Saint-Pé). La ligne A frôle le quartier à proximité de la station Le Haillan Rostand, un arrêt qui profite à Eysines puisque la commune n'a officiellement pas de station sur son territoire pour cette ligne de transport.\"\"\"\n",
    "\n",
    "text11 = \"\"\"Le Grand Louis : Quartier historique et urbain situé au sud-ouest de la ville avec des commerces autour de l'axe de communication reliant Bordeaux et Saint-Médard-en-Jalles. Le groupe scolaire du quartier est celui de La Forêt. Il constitue une limite avec les communes de Mérignac et Bordeaux (quartier Caudéran).\"\"\"\n",
    "\n",
    "text12 = \"\"\"Montalieu : Quartier résidentiel à l'ouest de la ville, limitrophe avec la commune du Haillan et il accueille une partie des terrains du Centre international de football du FC Girondins de Bordeaux. Longtemps faiblement urbanisé de par son isolement du reste de la commune, il est désormais lié au Bourg pour les équipements municipaux (groupe scolaire, commerces) et proche du Pinsan pour les équipements sportifs. Le quartier accueille deux centres scolaires spécialisés pour les jeunes en situation de handicap moteur. Le quartier a fortement évolué à partir des années 2000, notamment depuis la percée de la déviation d'Eysines et de la construction de l'échangeur 8 de la rocade (RD1215, actuelle route de Lacanau). Il accueille désormais de nouveaux logements et des ensembles immobiliers sur des anciennes prairies.\"\"\"\n",
    "\n",
    "text13 = \"\"\"Carès-Cantinolle : Quartier au nord-ouest de la ville, il possède deux secteurs liés. En hauteur, le plateau de Carès avec ses anciennes terres agricoles, viticoles et ses espaces naturels abritant des sources. En contrebas, le carrefour de Cantinolle avec sa zone commerciale, en bordure de la vallée maraîchère du parc intercommunal des Jalles. L'ensemble est en cours de réhabilitation (ZAC) pour créer notamment un éco-quartier moderne avec des espaces piétons, un gymnase, des commerces et 750 logements en sept îlots2. Le groupe scolaire du quartier est celui du Bourg. La ligne D du tramway de Bordeaux traverse le quartier avec deux stations : Les Sources (sur le plateau de Carès) et Cantinolle (terminus), ce qui permet une transformation de ce secteur de la commune, à l'abandon pendant de nombreuses années.\"\"\"\n",
    "\n",
    "text14 = \"\"\"Le Pinsan : Plaine végétale et boisée située au centre de la ville, il s'agit d'un grand parc arboré notamment avec des pins maritimes, renfermant le complexe sportif municipal avec ses nombreux terrains de sport (football, tennis, basket, fitness, skate-park, boulodrome), une salle omnisports, la piscine intercommunale Eysines-Le Haillan et son bassin d'été, le bois de la Lesque et son parcours sportif, ou simplement pour se balader. On y trouve aussi le Théâtre de verdure pour des évènements culturels en plein-air, et des salles polyvalentes pour des réceptions ou des activités périscolaires. Au nord, le château du Clos Lescombes accueillera prochainement la Bibliothèque départementale3. Le Domaine du Pinsan a été aménagé sur d'anciennes gravières et décharges sauvages comblées par les terres du chantier de la rocade dans les années 19704. À l'exception d'une allée périphérique, le domaine est entièrement piéton, plusieurs parkings sont répartis sur les rues limitrophes. Il est accessible toute l'année sans interruption.\"\"\"\n",
    "\n",
    "text15 = \"\"\"La zone maraîchère de la Vallée des Jalles : Plaine agricole au nord de la ville, s'étendant le long de la Jalle du Sable, où sont installées des exploitations maraîchères5 et les jardins familiaux. C'est véritablement le potager de la commune et de la métropole. Le secteur est desservi par quelques petites rues, mais surtout par de nombreux chemins ruraux à l'état naturel. Le patrimoine ancien de la commune est mis en valeur avec l'écomusée de La Cabane du Maraîcher, le Moulin Noir, et le Moulin Blanc qui offre un point de vue remarquable sur la vallée maraîchère et le Bourg d'Eysines.\"\"\"\n",
    "\n",
    "text16 = \"\"\"Administrativement, la mairie divise la commune en seulement 4 grands quartiers politiques pour les services6, comme les Conseils de quartiers, le service social L'Eycho, le ramassage des déchets verts, ou les bureaux de vote. La fusion avec les secteurs évoqués précédemment se fait ainsi :\n",
    "Le Bourg, regroupe les secteurs géographiques : Le Bourg, Montalieu, Carès-Cantinolle, le Pinsan et la partie ouest de la zone maraîchère.\n",
    "Le Vigean, regroupe les secteurs géographiques : Le Vigean, Le Derby, Le Bois Gramond extra-rocade et la partie est de la Zone maraîchère.\n",
    "Migron, regroupe les secteurs géographiques : Migron et Le Bois Gramond intra-rocade.\n",
    "La Forêt, regroupe les secteurs géographiques : La Forêt et Le Grand Louis.\"\"\"\n",
    "\n",
    "text17 = \"\"\"Historiquement, la commune est exposée à un climat océanique aquitain7. En 2020, Météo-France publie une typologie des climats de la France métropolitaine dans laquelle la commune est exposée à un climat océanique et est dans la région climatique Aquitaine, Gascogne, caractérisée par une pluviométrie abondante au printemps, modérée en automne, un faible ensoleillement au printemps, un été chaud (19,5 °C), des vents faibles, des brouillards fréquents en automne et en hiver et des orages fréquents en été (15 à 20 jours)8.\"\"\"\n",
    "\n",
    "text18 = \"\"\"Pour la période 1971-2000, la température annuelle moyenne est de 13,3 °C, avec une amplitude thermique annuelle de 14,5 °C. Le cumul annuel moyen de précipitations est de 897 mm, avec 12,2 jours de précipitations en janvier et 6,5 jours en juillet9. Pour la période 1991-2020 la température moyenne annuelle observée sur la station météorologique la plus proche, située sur la commune de Mérignac à 5 km à vol d'oiseau10, est de 14,2 °C et le cumul annuel moyen de précipitations est de 924,9 mm11,12. Pour l'avenir, les paramètres climatiques de la commune estimés pour 2050 selon différents scénarios d’émission de gaz à effet de serre sont consultables sur un site dédié publié par Météo-France en novembre 202213.\"\"\"\n",
    "\n",
    "text19 = \"\"\"Eysines est une commune urbaine, car elle fait partie des communes denses ou de densité intermédiaire, au sens de la grille communale de densité de l'Insee\"\"\"\n",
    "\n",
    "text20 = \"\"\"Elle appartient à l'unité urbaine de Bordeaux, une agglomération intra-départementale regroupant 73 communes17 et 1 008 509 habitants en 2021, dont elle est une commune de la banlieue. L'agglomération de Bordeaux est la sixième plus importante de la France en termes de population, derrière celles de Paris, Lyon, Marseille-Aix-en-Provence, Lille (partie française) et Toulouse18,19.\"\"\"\n",
    "\n",
    "text21 = \"\"\"Par ailleurs la commune fait partie de l'aire d'attraction de Bordeaux, dont elle est une commune du pôle principalNote 2. Cette aire, qui regroupe 275 communes, est catégorisée dans les aires de 700 000 habitants ou plus (hors Paris)20,21.\"\"\"\n",
    "\n",
    "text22 = \"L'occupation des sols de la commune, telle qu'elle ressort de la base de données européenne d’occupation biophysique des sols Corine Land Cover (CLC), est marquée par l'importance des territoires artificialisés (75,7 % en 2018), en augmentation par rapport à 1990 (61,7 %). La répartition détaillée en 2018 est la suivante : zones urbanisées (64,1 %), zones agricoles hétérogènes (18,1 %), zones industrielles ou commerciales et réseaux de communication (6,2 %), prairies (6,2 %), espaces verts artificialisés, non agricoles (5,4 %)22. L'évolution de l’occupation des sols de la commune et de ses infrastructures peut être observée sur les différentes représentations cartographiques du territoire : la carte de Cassini (xviiie siècle), la carte d'état-major (1820-1866) et les cartes ou photos aériennes de l'IGN pour la période actuelle (1950 à aujourd'hui)Carte 1.\"\n",
    "\n",
    "text23 = \"\"\"Eysines est traversée de nord-est en sud-ouest par la rocade de Bordeaux ou A 630. Trois sorties desservent la commune :\n",
    "Sortie 7 Eysines - Le Vigean ;\n",
    "Sortie 8 Eysines - Centre ;\n",
    "Sortie 9 Eysines - La Forêt.\"\"\"\n",
    "\n",
    "text24 = \"\"\"Depuis le 1er janvier 2017, conformément à la loi, toutes les routes départementales de la Gironde situées sur le territoire de Bordeaux Métropole sont devenues officiellement des routes métropolitaines. Cela concerne six voies principales de la commune :\n",
    "Avenue du Médoc (ancienne RD2215), traverse Eysines d'est en ouest du quartier du Vigean au quartier de Cantinolle en passant par le Bourg ;\n",
    "Route de Pauillac (ancienne RD2), relie le quartier du Vigean à Blanquefort ;\n",
    "Avenue de Saint-Médard (ancienne RD6), traverse le quartier de La Forêt d'est en ouest ;\n",
    "Avenue de Magudas (ancienne RD211), frôle la commune au sud, à la limite de Mérignac ;\n",
    "Route de Lacanau (ancienne RD1215, dit \"déviation d'Eysines\"), relie l'échangeur 8 de la rocade de Bordeaux au quartier de Cantinolle en desservant le Pinsan et Montalieu;\n",
    "Avenue de Soulac (ancienne RD1), débute à Eysines au carrefour de Cantinolle et rejoint quelques centaines de mètres plus loin la limite du Taillan-Médoc.\"\"\"\n",
    "\n",
    "text25 = \"\"\"Le territoire de la commune d'Eysines est vulnérable à différents aléas naturels : météorologiques (tempête, orage, neige, grand froid, canicule ou sécheresse), inondations, mouvements de terrains et séisme (sismicité faible)27. Un site publié par le BRGM permet d'évaluer simplement et rapidement les risques d'un bien localisé soit par son adresse soit par le numéro de sa parcelle28.\"\"\"\n",
    "\n",
    "text26 = \"\"\"La commune fait partie du territoire à risques importants d'inondation (TRI) de Bordeaux, regroupant les 28 communes concernées par un risque de submersion marine ou de débordement de la Garonne, un des 18 TRI qui ont été arrêtés fin 2012 sur le bassin Adour-Garonne29. Les crues significatives qui se sont produites au xxe siècle, avec plus de 6,70 m mesurés au marégraphe de Bordeaux sont celles du 27 décembre 1999 (7,05 m, débit de la Garonne de 700 m3/s), du 13 décembre 1981 (6,85 m, 1500 à 2 000 m3/s), du 19 mars 1988 (6,84 m, 4 000 m3/s), du 7 février 1996 (6,77 m, 1 000 m3/s) et du 28 avril 1998 (6,73 m, 2 700 m3/s). Au xxie siècle, ce sont celles liées à la tempête Xynthia du 28 février 2010 (6,92 m, 816 m3/s) et du 31 janvier 2014 (6,9 m, 2500 à 3 000 m3/s). Des cartes des surfaces inondables ont été établies pour trois scénarios : fréquent (crue de temps de retour de 10 ans à 30 ans), moyen (temps de retour de 100 ans à 300 ans) et extrême (temps de retour de l'ordre de 1 000 ans, qui met en défaut tout système de protection)30. La commune a été reconnue en état de catastrophe naturelle au titre des dommages causés par les inondations et coulées de boue survenues en 1982, 1983, 1992, 1993, 1999, 2006, 2009 et 201831,27.\"\"\"\n",
    "\n",
    "text27 = \"\"\"Les mouvements de terrains susceptibles de se produire sur la commune sont des tassements différentiels32.\"\"\"\n",
    "\n",
    "text28 = \"\"\"Le retrait-gonflement des sols argileux est susceptible d'engendrer des dommages importants aux bâtiments en cas d’alternance de périodes de sécheresse et de pluie. La totalité de la commune est en aléa moyen ou fort (67,4 % au niveau départemental et 48,5 % au niveau national). Sur les 5 725 bâtiments dénombrés sur la commune en 2019, 5 725 sont en aléa moyen ou fort, soit 100 %, à comparer aux 84 % au niveau départemental et 54 % au niveau national. Une cartographie de l'exposition du territoire national au retrait gonflement des sols argileux est disponible sur le site du BRGM33,Carte 2.\"\"\"\n",
    "\n",
    "text29 = \"\"\"Par ailleurs, afin de mieux appréhender le risque d’affaissement de terrain, l'inventaire national des cavités souterraines permet de localiser celles situées sur la commune34.\"\"\"\n",
    "\n",
    "text30 = \"\"\"Concernant les mouvements de terrains, la commune a été reconnue en état de catastrophe naturelle au titre des dommages causés par la sécheresse en 1989, 1995, 2002, 2003, 2005, 2011 et 2017 et par des mouvements de terrain en 199927.\"\"\"\n",
    "\n",
    "text31 = \"\"\"Le nom de la commune vient du gascon Aisinas (1259)35 qui désigne les communaux, propriété d’un seigneur, mais où les villageois disposent d’un droit d’usage comme le pacage ou la récolte du bois de chauffage1. Le radical aïs- se retrouve dans le mot français aise35.\n",
    "En occitan-gascon, le nom de la commune est Aisinas [ɛj’zinəs].\n",
    "Ses habitants sont appelés les Eysinais36.\"\"\"\n",
    "\n",
    "\n",
    "text32 = \"\"\"La découverte ancienne (en 1877)37 d'une hallebarde de l'Âge du bronze dans un tumulus protohistorique au lieu-dit Gleyse, témoigne des relations commerciales entretenues avec le Médoc et peut-être l'Irlande38.\"\"\"\n",
    "\n",
    "text33 = \"\"\"Le tracé d'une Lébade reliant Bordeaux à Soulac est attesté jusqu'au passage de la Jalle à Jalepont. Cette route de terre se caractérise par le même mode de construction que la voie romaine littorale landaise, mais les éléments de datation archéologique manquent.\"\"\"\n",
    "\n",
    "text34 = \"\"\"L'église romane ou gothique Saint-Martin et son cimetière étaient implantés à l'angle actuel de la rue de la Pompe et de la route du Médoc, à l'emplacement de la place actuelle du 4 septembre. Seul vestige, l'ancien presbytère. Les statues de l'église ont été déménagées dans la nouvelle église, construite dans la seconde moitié du xixe siècle39. Plusieurs culs-de-lampe gothiques ont été fixés au porche. La croix du cimetière, dite Croix du Sable, datée de 1542, a été également récupérée et se trouve dans le nouveau cimetière depuis 1883, à la suite de l'arrêté municipal de Léon Raphi en 1862 interdisant les processions. Elle porte l'inscription : Seigneur qui par ici passez, priez Dieu pour les trépassés40.\"\"\"\n",
    "\n",
    "text35 = \"\"\"Au début du xviie siècle, plusieurs maisons nobles passent aux mains des bourgeois bordelais qui accroient leur puissance et achètent également des bourdieux où ils surveillent l'exploitation de leurs jardins et de leurs vergers. Deux routes sont aménagées par l'intendant Tourny vers 175041\"\"\"\n",
    "\n",
    "text36 = \"\"\"La Jalle de Blanquefort marque d'emblée l'histoire d'Eysines, car, en plus d'irriguer les sols, son débit offre une énergie exploitable. Les premiers moulins à eau apparaissent dès le xiie siècle avec le moulin de Jallepont, de Landemoulin, du Moulinat et de Plassan. Ils fournissent Bordeaux en farine. Eysines a ainsi longtemps prospéré grâce à sa vocation agricole et surtout maraîchère, la commune était alors appelée « le potager de Bordeaux » dont il subsiste une vingtaine d'exploitations spécialisées notamment dans la citrouille et la pomme de terre. Sur le blason de la ville, figure la Jalle, source de fertilité pour la commune, et les « trois croissants » qui symbolisent Bordeaux, la ville tutélaire. Les digues sont régulièrement renforcées pour prévenir les inondations42 le long de la Jalle.\"\"\"\n",
    "\n",
    "text37 = \"\"\"L'aqueduc du Thil (ou l'aqueduc du Taillan-Médoc) traverse la commune dans sa partie nord. Mis en service le 15 août 1857, c'est un ouvrage souterrain de maçonnerie, à écoulement par gravité, qui s'étend sur 12 kilomètres. L'eau qu'il capte dans de nombreuses sources (Thil, Bussac, Bussaguet, Cantinolle…) est acheminée à plus de 44 000 m3/jour vers un réservoir de 13 000 m3 à l'usine Paulin de Bordeaux, assurant près d'un quart des besoins d'alimentation en eau de Bordeaux Métropole. Traversant plusieurs communes (Saint-Médard-en-Jalles, Le Haillan, Eysines, Bruges, Le Bouscat et Bordeaux), cet aqueduc n'est visible qu'à la limite d'Eysines et du Taillan-Médoc, au niveau du franchissement des jalles, sous la forme d'un canal de 76 mètres de long.\"\"\"\n",
    "\n",
    "text38 = \"\"\"L'image de village prévaut à Eysines jusqu'aux années 1970. Depuis, le nombre d'habitants a beaucoup augmenté et la physionomie de la commune a évolué. Des logements se sont construits et les terres en friche ont disparu. Eysines s'est équipée en locaux sociaux, culturels, sportifs et de loisirs ; des entreprises se sont implantées. Cependant, de ses origines villageoises, Eysines a conservé le respect de la nature, la volonté d'harmoniser urbanisation et environnement. Incitée à aller de l'avant par la structure de sa population (40 % des Eysinais ont moins de 25 ans[réf. nécessaire]) Eysines est une ville active45.\"\"\"\n",
    "\n",
    "text39 = \"\"\"La commune est située dans la zone d'approche de l'aéroport de Bordeaux-Mérignac. Les forêts de la commune ont été le site de deux accidents aériens, les deux par temps de brouillard :\n",
    "Le 7 février 1953, un Douglas DC-4 reliant Abidjan à Paris avec une escale à Bordeaux s’écrase lors de son approche de l'aéroport. L'accident fait six morts et douze blessés46 ;\n",
    "Le 21 décembre 1987, un Embraer 120 assurant le vol 1919 Air France entre Bruxelles et Bordeaux s'écrase lors de son approche. Les treize passagers et membres d'équipage sont tués.\"\"\"\n",
    "\n",
    "text40 = \"\"\"L'évolution du nombre d'habitants est connue à travers les recensements de la population effectués dans la commune depuis 1793. Pour les communes de plus de 10 000 habitants les recensements ont lieu chaque année à la suite d'une enquête par sondage auprès d'un échantillon d'adresses représentant 8 % de leurs logements, contrairement aux autres communes qui ont un recensement réel tous les cinq ans50,Note 3.\"\"\"\n",
    "\n",
    "texts = [text1, text2, text3, text4, text5, text6, text7, text8, text9, text10, text11, text12, text13, text14, text15, text16, text17, text18, text19, text20, text21, text22, text23, text24, text25, text26, text27, text28, text29, text30, text31, text32, text33, text34, text35, text36, text37, text38, text39, text40]\n",
    "len(texts)"
   ]
  },
  {
   "cell_type": "markdown",
   "metadata": {},
   "source": [
    "##### Compute embeddings for each text"
   ]
  },
  {
   "cell_type": "code",
   "execution_count": 5,
   "metadata": {},
   "outputs": [
    {
     "name": "stdout",
     "output_type": "stream",
     "text": [
      "Eysines (/ɛj.zinə/ ou /ezinə/) est une commune du Sud-Ouest de la France, située dans le département de la Gironde, en région Nouvelle-Aquitaine. Elle fait partie de l'agglomération nord-ouest de Bordeaux, de Bordeaux Métropole, du parc intercommunal des Jalles et du syndicat mixte du parc naturel régional du Médoc.\n",
      "Fière de ses espaces naturels, de son histoire maraîchère, de ses évènements culturels-sportifs-associatifs et de sa mixité sociale, la commune en a fait sa signature polysémique : « Eysines, Jardin de Cultures ».\n",
      "Eysines est une commune « Sport Pour Tous » 4 étoiles depuis 2013.\n",
      "--------------------------------------------------\n",
      "Eysines est une commune urbaine, car elle fait partie des communes denses ou de densité intermédiaire, au sens de la grille communale de densité de l'Insee\n",
      "--------------------------------------------------\n",
      "Eysines est traversée de nord-est en sud-ouest par la rocade de Bordeaux ou A 630. Trois sorties desservent la commune :\n",
      "Sortie 7 Eysines - Le Vigean ;\n",
      "Sortie 8 Eysines - Centre ;\n",
      "Sortie 9 Eysines - La Forêt.\n",
      "--------------------------------------------------\n",
      "L'image de village prévaut à Eysines jusqu'aux années 1970. Depuis, le nombre d'habitants a beaucoup augmenté et la physionomie de la commune a évolué. Des logements se sont construits et les terres en friche ont disparu. Eysines s'est équipée en locaux sociaux, culturels, sportifs et de loisirs ; des entreprises se sont implantées. Cependant, de ses origines villageoises, Eysines a conservé le respect de la nature, la volonté d'harmoniser urbanisation et environnement. Incitée à aller de l'avant par la structure de sa population (40 % des Eysinais ont moins de 25 ans[réf. nécessaire]) Eysines est une ville active45.\n",
      "--------------------------------------------------\n",
      "Le territoire de la commune d'Eysines est vulnérable à différents aléas naturels : météorologiques (tempête, orage, neige, grand froid, canicule ou sécheresse), inondations, mouvements de terrains et séisme (sismicité faible)27. Un site publié par le BRGM permet d'évaluer simplement et rapidement les risques d'un bien localisé soit par son adresse soit par le numéro de sa parcelle28.\n",
      "--------------------------------------------------\n"
     ]
    }
   ],
   "source": [
    "from openai import OpenAI\n",
    "import numpy as np\n",
    "\n",
    "def get_embedding(text, model=\"nomic-ai/nomic-embed-text-v1.5-GGUF\"):\n",
    "   text = text.replace(\"\\n\", \" \")\n",
    "   return client.embeddings.create(input = [text], model=model).data[0].embedding\n",
    "\n",
    "def cosine_similarity(a, b):\n",
    "    return np.dot(a, b) / (np.linalg.norm(a) * np.linalg.norm(b))\n",
    "\n",
    "def get_top_k_closest_texts(text, texts, embeddings, k=5):\n",
    "    query_embedding = get_embedding(text)\n",
    "    similarities = [cosine_similarity(query_embedding, embedding) for embedding in embeddings]\n",
    "    top_k_indices = np.argsort(similarities)[::-1][:k]  \n",
    "    return [texts[i] for i in top_k_indices]\n",
    "\n",
    "# Point to the local server\n",
    "client = OpenAI(base_url=\"http://localhost:1234/v1\", api_key=\"lm-studio\")\n",
    "\n",
    "# Get embeddings for all texts\n",
    "embeddings = [get_embedding(text) for text in texts]\n",
    "\n",
    "# Test the text selections\n",
    "selected_text = get_top_k_closest_texts(\"What is Eysines ?\", texts, embeddings)\n",
    "for t in selected_text:\n",
    "    print(t)\n",
    "    print(\"-\" * 50)"
   ]
  },
  {
   "cell_type": "markdown",
   "metadata": {},
   "source": [
    "##### Create the rag process"
   ]
  },
  {
   "cell_type": "code",
   "execution_count": 6,
   "metadata": {},
   "outputs": [
    {
     "name": "stdout",
     "output_type": "stream",
     "text": [
      "According to the provided documents, Eysines is a commune that offers various activities and attractions for its visitors. Here are some things you can do in Eysines:\n",
      "\n",
      "* Enjoy the city's natural spaces: As mentioned in Text 1, Eysines is proud of its natural areas, making it an ideal destination for nature lovers.\n",
      "* Participate in cultural events: The commune hosts various cultural, sports, and associative events throughout the year (Text 1).\n",
      "* Explore the local history: With a rich maraîchère (market gardening) history, Eysines offers opportunities to learn about its past and heritage.\n",
      "* Engage in outdoor activities: The city's proximity to the A630 highway makes it easy to access nearby recreational areas or take a stroll along the rocade de Bordeaux (Text 3).\n",
      "* Visit local businesses: With various enterprises having set up shop, you can explore the local economy and support small businesses.\n",
      "\n",
      "Additionally, Eysines is also known for its commitment to being a \"Sport Pour Tous\" (Sports for All) commune, with four-star certification since 2013. This means that the city offers a range of sports facilities and activities for people of all ages and abilities.\n",
      "\n",
      "Please note that this information might not be exhaustive, as there may be other attractions or activities available in Eysines that are not mentioned in the provided documents.\n"
     ]
    }
   ],
   "source": [
    "from openai import OpenAI\n",
    "\n",
    "# Point to the local server\n",
    "client = OpenAI(base_url=\"http://localhost:1234/v1\", api_key=\"lm-studio\")\n",
    "\n",
    "system_message = \"\"\"You are an AI assistant defined as a RAG that is supposed to help people to discover the city of Eysines, in France.\n",
    "User will come with a question or a request about Eysines, your task will be to answer that question the most accurately possible.\n",
    "To help you with that, another process select for you a set of chunk of documents that will contains some useful information about the city.\n",
    "Please, make use of those documents, and try to answer the user's question as best as you can, do not hesitate to be a bit verbose.\n",
    "If the answer is not provided in the documents, please explain to the user that you don't have the information.\n",
    "Provide the answer of the question only. Nothing else.\n",
    "\n",
    "DOCUMENTS:\n",
    "\"\"\"\n",
    "\n",
    "user_message = \"What can i do in Eysines ?\"\n",
    "\n",
    "selected_text = get_top_k_closest_texts(user_message, texts, embeddings)\n",
    "system_message += \"\\n\".join([f\"-> Text {i+1}: {t}\" for i, t in enumerate(selected_text)])\n",
    "\n",
    "history = [\n",
    "    {\"role\": \"system\", \"content\": system_message},\n",
    "    {\"role\": \"user\", \"content\": user_message},\n",
    "]\n",
    "\n",
    "completion = client.chat.completions.create(\n",
    "    model=\"lmstudio-community/Meta-Llama-3-8B-Instruct-GGUF\",\n",
    "    messages=history,\n",
    "    temperature=0.2,\n",
    ")\n",
    "\n",
    "print(completion.choices[0].message.content)\n",
    "\n",
    "\n",
    "# Q : \"What is Eysines ?\"\n",
    "# A : \"Eysines is a commune located in the Sud-Ouest region of France, situated in the department of Gironde and in the Nouvelle-Aquitaine region. It is part of the agglomeration north-west of Bordeaux, Bordeaux Métropole, the intercommunal park of the Jalles, and the mixed syndicate of the natural regional park of Médoc.\"\n",
    "\n",
    "\n",
    "# Q : \"What can i do in Eysines ?\"\n",
    "# A : \"According to the provided documents, Eysines offers a variety of activities and attractions that cater to different interests. Here are some things you can do in Eysines:\\n\\n* Enjoy the commune's natural spaces and its \\\"Jardin de Cultures\\\" signature.\\n* Participate in cultural events, sports, and associative activities.\\n* Take advantage of the commune's mixity social and urban planning, which aims to harmonize urbanization and environment.\\n* Explore the local history and maraîchère (gardening) heritage.\\n* Visit the various locaux sociaux, culturels, sportifs et de loisirs that have been set up in the commune.\\n\\nAdditionally, Eysines is part of the Bordeaux Métropole agglomeration, which offers access to a wider range of cultural, sporting, and recreational activities. The commune's proximity to Bordeaux also makes it an ideal base for exploring the city and its surroundings.\\n\\nIt's worth noting that Eysines has been recognized as a \\\"Sport Pour Tous\\\" 4-star commune since 2013, indicating that it offers a wide range of sports facilities and activities for people of all ages.\""
   ]
  },
  {
   "cell_type": "code",
   "execution_count": null,
   "metadata": {},
   "outputs": [],
   "source": []
  }
 ],
 "metadata": {
  "kernelspec": {
   "display_name": "fau_env",
   "language": "python",
   "name": "python3"
  },
  "language_info": {
   "codemirror_mode": {
    "name": "ipython",
    "version": 3
   },
   "file_extension": ".py",
   "mimetype": "text/x-python",
   "name": "python",
   "nbconvert_exporter": "python",
   "pygments_lexer": "ipython3",
   "version": "3.11.6"
  }
 },
 "nbformat": 4,
 "nbformat_minor": 2
}
