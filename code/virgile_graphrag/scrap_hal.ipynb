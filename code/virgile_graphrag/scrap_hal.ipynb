{
 "cells": [
  {
   "cell_type": "markdown",
   "metadata": {},
   "source": [
    "# Download all pdf from HAL in relation with Mnemosyne"
   ]
  },
  {
   "cell_type": "markdown",
   "metadata": {},
   "source": [
    "### Get all articles links"
   ]
  },
  {
   "cell_type": "code",
   "execution_count": 1,
   "metadata": {},
   "outputs": [
    {
     "name": "stdout",
     "output_type": "stream",
     "text": [
      "Getting all articles...\n"
     ]
    },
    {
     "name": "stderr",
     "output_type": "stream",
     "text": [
      "100%|██████████| 15/15 [01:43<00:00,  6.89s/it]"
     ]
    },
    {
     "name": "stdout",
     "output_type": "stream",
     "text": [
      "443 articles found\n"
     ]
    },
    {
     "name": "stderr",
     "output_type": "stream",
     "text": [
      "\n"
     ]
    }
   ],
   "source": [
    "from bs4 import BeautifulSoup\n",
    "import requests\n",
    "import time\n",
    "from tqdm import tqdm \n",
    "import os \n",
    "\n",
    "\n",
    "# Define headers to mimic a browser request\n",
    "headers = {\n",
    "    \"User-Agent\": \"Mozilla/5.0 (Windows NT 10.0; Win64; x64) AppleWebKit/537.36 (KHTML, like Gecko) Chrome/58.0.3029.110 Safari/537.36\"\n",
    "}\n",
    "\n",
    "# Get all pages\n",
    "print('Getting all articles...')\n",
    "page_links = []\n",
    "for i in tqdm(range(1, 16)):\n",
    "    # Get page\n",
    "    link = f\"https://inria.hal.science/search/index/?q=%2A&rows=30&sort=producedDate_tdate+desc&structId_i=188658&page={i}#\"\n",
    "    page = requests.get(link, headers=headers)\n",
    "\n",
    "    # Found all articles page links\n",
    "    soup = BeautifulSoup(page.content, 'html.parser')\n",
    "    articles = soup.find_all('td', class_='pl-4 pl-sm-0')\n",
    "    page_links += [a.find('a').get('href') for a in articles]\n",
    "\n",
    "    # Sleep to avoid getting blocked\n",
    "    time.sleep(1)\n",
    "\n",
    "print(f'{len(page_links)} articles found')"
   ]
  },
  {
   "cell_type": "markdown",
   "metadata": {},
   "source": [
    "### Download all pdf"
   ]
  },
  {
   "cell_type": "code",
   "execution_count": null,
   "metadata": {},
   "outputs": [],
   "source": [
    "import os\n",
    "\n",
    "# Create folder to store pdfs\n",
    "folder = 'pdfs'\n",
    "if not os.path.exists(folder):\n",
    "    os.makedirs(folder)\n",
    "\n",
    "# For each page, get the pdf link & download it\n",
    "print('Downloading pdfs...')\n",
    "for page_name in tqdm(page_links):\n",
    "    # Get page\n",
    "    link = f\"https://inria.hal.science{page_name}\"\n",
    "    page = requests.get(link, headers=headers)\n",
    "\n",
    "    try:\n",
    "        # Parse page\n",
    "        soup = BeautifulSoup(page.content, 'html.parser')\n",
    "        section = soup.find('div', class_=\"section-content section-shadow hal-visualize-button widget-files\")\n",
    "        link_to_pdf = section.find('a').get('href')\n",
    "\n",
    "        # Download pdf\n",
    "        pdf = requests.get(link_to_pdf, headers=headers)\n",
    "        with open(f'{folder}/{page_name.split(\"/\")[-1]}.pdf', 'wb') as f:\n",
    "            f.write(pdf.content)\n",
    "    \n",
    "    except:\n",
    "        print(f'Error downloading {page_name}')\n",
    "    \n",
    "    # Sleep to avoid getting blocked\n",
    "    time.sleep(1)\n",
    "\n",
    "# how many files are in the directory\n",
    "path, dirs, files = next(os.walk(\"pdfs\"))\n",
    "file_count = len(files)\n",
    "print(f'{file_count} pdfs downloaded')"
   ]
  },
  {
   "cell_type": "markdown",
   "metadata": {},
   "source": [
    "### Convert all pdf to markdown"
   ]
  },
  {
   "cell_type": "code",
   "execution_count": 3,
   "metadata": {},
   "outputs": [
    {
     "name": "stderr",
     "output_type": "stream",
     "text": [
      "  1%|          | 3/315 [00:01<01:51,  2.80it/s]"
     ]
    },
    {
     "name": "stdout",
     "output_type": "stream",
     "text": [
      "Error converting hal-03145162v1.pdf\n"
     ]
    },
    {
     "name": "stderr",
     "output_type": "stream",
     "text": [
      "  7%|▋         | 22/315 [00:08<01:01,  4.80it/s]"
     ]
    },
    {
     "name": "stdout",
     "output_type": "stream",
     "text": [
      "Error converting hal-00828011v1.pdf\n"
     ]
    },
    {
     "name": "stderr",
     "output_type": "stream",
     "text": [
      " 52%|█████▏    | 164/315 [04:45<19:38,  7.81s/it] "
     ]
    },
    {
     "name": "stdout",
     "output_type": "stream",
     "text": [
      "Error converting hal-00826704v1.pdf\n"
     ]
    },
    {
     "name": "stderr",
     "output_type": "stream",
     "text": [
      " 68%|██████▊   | 213/315 [06:39<02:19,  1.37s/it]"
     ]
    },
    {
     "name": "stdout",
     "output_type": "stream",
     "text": [
      "Error converting hal-03844358v1.pdf\n"
     ]
    },
    {
     "name": "stderr",
     "output_type": "stream",
     "text": [
      " 73%|███████▎  | 229/315 [06:50<00:56,  1.51it/s]"
     ]
    },
    {
     "name": "stdout",
     "output_type": "stream",
     "text": [
      "Error converting hal-01444568v1.pdf\n"
     ]
    },
    {
     "name": "stderr",
     "output_type": "stream",
     "text": [
      "100%|██████████| 315/315 [09:54<00:00,  1.89s/it]"
     ]
    },
    {
     "name": "stdout",
     "output_type": "stream",
     "text": [
      "Converted 369 pdfs to markdown\n"
     ]
    },
    {
     "name": "stderr",
     "output_type": "stream",
     "text": [
      "\n"
     ]
    }
   ],
   "source": [
    "import os\n",
    "from pdfminer.high_level import extract_text\n",
    "from markdownify import markdownify as md\n",
    "from tqdm import tqdm\n",
    "\n",
    "# Create folder to store markdown files\n",
    "if not os.path.exists('markdown'):\n",
    "    os.makedirs('markdown')\n",
    "\n",
    "def pdf_to_markdown(pdf_path, md_path):\n",
    "    # Extract text from the PDF\n",
    "    text = extract_text(pdf_path)\n",
    "    \n",
    "    # Convert the extracted text to Markdown\n",
    "    markdown_text = md(text)\n",
    "    \n",
    "    # Write the Markdown text to a file\n",
    "    with open(md_path, 'w', encoding='utf-8') as md_file:\n",
    "        md_file.write(markdown_text)\n",
    "\n",
    "\n",
    "for pdf in tqdm(os.listdir('pdfs')):\n",
    "    try:\n",
    "        pdf_path = f'pdfs/{pdf}'\n",
    "        md_path = f'markdown/{pdf.replace(\".pdf\", \".md\")}'\n",
    "        pdf_to_markdown(pdf_path, md_path)\n",
    "    except:\n",
    "        print(f'Error converting {pdf}')\n",
    "\n",
    "file_count = len(os.listdir('markdown'))\n",
    "print(f'Converted {file_count} pdfs to markdown')"
   ]
  },
  {
   "cell_type": "code",
   "execution_count": null,
   "metadata": {},
   "outputs": [],
   "source": []
  }
 ],
 "metadata": {
  "kernelspec": {
   "display_name": "Python 3",
   "language": "python",
   "name": "python3"
  },
  "language_info": {
   "codemirror_mode": {
    "name": "ipython",
    "version": 3
   },
   "file_extension": ".py",
   "mimetype": "text/x-python",
   "name": "python",
   "nbconvert_exporter": "python",
   "pygments_lexer": "ipython3",
   "version": "3.11.6"
  }
 },
 "nbformat": 4,
 "nbformat_minor": 2
}
